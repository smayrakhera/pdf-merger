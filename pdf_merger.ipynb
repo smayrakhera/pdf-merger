{
  "nbformat": 4,
  "nbformat_minor": 0,
  "metadata": {
    "colab": {
      "provenance": [],
      "include_colab_link": true
    },
    "kernelspec": {
      "name": "python3",
      "display_name": "Python 3"
    },
    "language_info": {
      "name": "python"
    }
  },
  "cells": [
    {
      "cell_type": "markdown",
      "metadata": {
        "id": "view-in-github",
        "colab_type": "text"
      },
      "source": [
        "<a href=\"https://colab.research.google.com/github/smayrakhera/pdf-merger/blob/main/pdf_merger.ipynb\" target=\"_parent\"><img src=\"https://colab.research.google.com/assets/colab-badge.svg\" alt=\"Open In Colab\"/></a>"
      ]
    },
    {
      "cell_type": "code",
      "execution_count": null,
      "metadata": {
        "colab": {
          "base_uri": "https://localhost:8080/"
        },
        "id": "W46qmhJDLTek",
        "outputId": "eeb512a1-8262-4065-ef96-680bbfe562d6"
      },
      "outputs": [
        {
          "output_type": "stream",
          "name": "stdout",
          "text": [
            "Collecting PyPDF2\n",
            "  Downloading pypdf2-3.0.1-py3-none-any.whl.metadata (6.8 kB)\n",
            "Downloading pypdf2-3.0.1-py3-none-any.whl (232 kB)\n",
            "\u001b[?25l   \u001b[90m━━━━━━━━━━━━━━━━━━━━━━━━━━━━━━━━━━━━━━━━\u001b[0m \u001b[32m0.0/232.6 kB\u001b[0m \u001b[31m?\u001b[0m eta \u001b[36m-:--:--\u001b[0m\r\u001b[2K   \u001b[91m━━━━━━━━━━━━━━━━━━━━━━━━━━━━━━━━━━━━━━\u001b[0m\u001b[91m╸\u001b[0m\u001b[90m━\u001b[0m \u001b[32m225.3/232.6 kB\u001b[0m \u001b[31m7.8 MB/s\u001b[0m eta \u001b[36m0:00:01\u001b[0m\r\u001b[2K   \u001b[90m━━━━━━━━━━━━━━━━━━━━━━━━━━━━━━━━━━━━━━━━\u001b[0m \u001b[32m232.6/232.6 kB\u001b[0m \u001b[31m5.6 MB/s\u001b[0m eta \u001b[36m0:00:00\u001b[0m\n",
            "\u001b[?25hInstalling collected packages: PyPDF2\n",
            "Successfully installed PyPDF2-3.0.1\n"
          ]
        }
      ],
      "source": [
        "pip install PyPDF2\n"
      ]
    },
    {
      "cell_type": "code",
      "source": [
        "import os\n",
        "from PyPDF2 import PdfMerger\n",
        "\n",
        "def merge_pdfs(pdf_list, output_filename):\n",
        "    merger = PdfMerger()\n",
        "\n",
        "    for pdf in pdf_list:\n",
        "        if os.path.exists(pdf):\n",
        "            merger.append(pdf)\n",
        "            print(f\"Added: {pdf}\")\n",
        "        else:\n",
        "            print(f\"File not found: {pdf}\")\n",
        "\n",
        "    merger.write(output_filename)\n",
        "    merger.close()\n",
        "    print(f\"\\nMerged PDF saved as: {output_filename}\")\n",
        "\n",
        "if __name__ == \"__main__\":\n",
        "    print(\"PDF Merger\")\n",
        "    n = int(input(\"Enter number of PDF files to merge: \"))\n",
        "\n",
        "    pdf_files = []\n",
        "    for i in range(n):\n",
        "        file = input(f\"Enter path of PDF file {i+1}: \")\n",
        "        pdf_files.append(file)\n",
        "\n",
        "    output_name = input(\"Enter name for the output file (e.g., merged.pdf): \")\n",
        "    merge_pdfs(pdf_files, output_name)\n"
      ],
      "metadata": {
        "colab": {
          "base_uri": "https://localhost:8080/"
        },
        "id": "cPhSlBF1LY6G",
        "outputId": "ffd5a792-f7d3-4921-8ec9-3cb1ebe20a4f"
      },
      "execution_count": null,
      "outputs": [
        {
          "output_type": "stream",
          "name": "stdout",
          "text": [
            "PDF Merger\n",
            "Enter number of PDF files to merge: 2\n",
            "Enter path of PDF file 1: /content/part1.pdf\n",
            "Enter path of PDF file 2: /content/part2.pdf\n",
            "Enter name for the output file (e.g., merged.pdf): merged 1 and 2.pdf\n",
            "Added: /content/part1.pdf\n",
            "Added: /content/part2.pdf\n",
            "\n",
            "Merged PDF saved as: merged 1 and 2.pdf\n"
          ]
        }
      ]
    }
  ]
}